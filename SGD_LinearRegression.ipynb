{
 "cells": [
  {
   "cell_type": "code",
   "execution_count": 3,
   "id": "be4b870d",
   "metadata": {},
   "outputs": [],
   "source": [
    "import numpy as np\n",
    "import pandas as pd\n",
    "import matplotlib.pyplot as plt\n",
    "from sklearn.datasets import make_regression\n",
    "from sklearn.model_selection import train_test_split\n",
    "from sklearn.preprocessing import scale, PolynomialFeatures\n",
    "from sklearn.linear_model import LinearRegression, Ridge, Lasso, ElasticNet\n",
    "from sklearn.metrics import mean_squared_error, r2_score"
   ]
  },
  {
   "cell_type": "code",
   "execution_count": 21,
   "id": "10d7dee3",
   "metadata": {},
   "outputs": [],
   "source": [
    "class MatrixLinearRegression:\n",
    "\n",
    "    def fit(self, X, y):\n",
    "        X = np.insert(X, 0, 1, axis=1)   # add ones vector\n",
    "        XT_X_inv = np.linalg.inv(X.T @ X)   # (X.T * X) ** (-1) inverse matrix\n",
    "        weights = np.linalg.multi_dot([XT_X_inv, X.T, y])   # XT_X_inv * X.T * y\n",
    "        self.bias, self.weights = weights[0], weights[1:]\n",
    "\n",
    "    def predict(self, X_test):\n",
    "        return X_test @ self.weights + self.bias"
   ]
  },
  {
   "cell_type": "code",
   "execution_count": null,
   "id": "1b5beed3",
   "metadata": {},
   "outputs": [],
   "source": [
    "class GDLinearRegression:\n",
    "    def __init__(self, learning_rate=0.01, tolerance=1e-8):\n",
    "        self.learning_rate = learning_rate\n",
    "        self.tolerance = tolerance\n",
    "\n",
    "    def fit(self, X, y):\n",
    "        n_samples, n_features = X.shape\n",
    "        self.bias, self.weights = 0, np.zeros(n_features)\n",
    "        previous_db, previous_dw = 0, np.zeros(n_features)\n",
    "\n",
    "        while True:\n",
    "            y_pred = X @ self.weights + self.bias\n",
    "            db = 1 / n_samples * np.sum(y_pred - y)\n",
    "            dw = 1 / n_samples * X.T @ (y_pred - y)\n",
    "            self.bias -= self.learning_rate * db\n",
    "            self.weights -= self.learning_rate * dw\n",
    "\n",
    "            abs_db_reduction = np.abs(db - previous_db)\n",
    "            abs_dw_reduction = np.abs(dw - previous_dw)\n",
    "\n",
    "            if abs_db_reduction < self.tolerance:\n",
    "                if abs_dw_reduction.all() < self.tolerance:\n",
    "                    break\n",
    "\n",
    "            previous_db = db\n",
    "            previous_dw = dw\n",
    "\n",
    "    def predict(self, X_test):\n",
    "        return X_test @ self.weights + self.bias"
   ]
  },
  {
   "cell_type": "code",
   "execution_count": 18,
   "id": "7a2d4d9a",
   "metadata": {},
   "outputs": [
    {
     "name": "stdout",
     "output_type": "stream",
     "text": [
      "    age  experience  income\n",
      "0    25           1   30450\n",
      "1    30           3   35670\n",
      "2    47           2   31580\n",
      "3    32           5   40130\n",
      "4    43          10   47830\n",
      "5    51           7   41630\n",
      "6    28           5   41340\n",
      "7    33           4   37650\n",
      "8    37           5   40250\n",
      "9    39           8   45150\n",
      "10   29           1   27840\n",
      "11   47           9   46110\n",
      "12   54           5   36720\n",
      "13   51           4   34800\n",
      "14   44          12   51300\n",
      "15   41           6   38900\n",
      "16   58          17   63600\n",
      "17   23           1   30870\n",
      "18   44           9   44190\n",
      "19   37          10   48700\n"
     ]
    },
    {
     "data": {
      "text/html": [
       "<style  type=\"text/css\" >\n",
       "#T_73d47746_3d57_11ef_9215_70a8d3797e3erow0_col0,#T_73d47746_3d57_11ef_9215_70a8d3797e3erow1_col1,#T_73d47746_3d57_11ef_9215_70a8d3797e3erow2_col2{\n",
       "            background-color:  #b40426;\n",
       "            color:  #f1f1f1;\n",
       "        }#T_73d47746_3d57_11ef_9215_70a8d3797e3erow0_col1,#T_73d47746_3d57_11ef_9215_70a8d3797e3erow0_col2,#T_73d47746_3d57_11ef_9215_70a8d3797e3erow2_col0{\n",
       "            background-color:  #3b4cc0;\n",
       "            color:  #f1f1f1;\n",
       "        }#T_73d47746_3d57_11ef_9215_70a8d3797e3erow1_col0{\n",
       "            background-color:  #7396f5;\n",
       "            color:  #000000;\n",
       "        }#T_73d47746_3d57_11ef_9215_70a8d3797e3erow1_col2{\n",
       "            background-color:  #c0282f;\n",
       "            color:  #f1f1f1;\n",
       "        }#T_73d47746_3d57_11ef_9215_70a8d3797e3erow2_col1{\n",
       "            background-color:  #c32e31;\n",
       "            color:  #f1f1f1;\n",
       "        }</style><table id=\"T_73d47746_3d57_11ef_9215_70a8d3797e3e\" ><thead>    <tr>        <th class=\"blank level0\" ></th>        <th class=\"col_heading level0 col0\" >age</th>        <th class=\"col_heading level0 col1\" >experience</th>        <th class=\"col_heading level0 col2\" >income</th>    </tr></thead><tbody>\n",
       "                <tr>\n",
       "                        <th id=\"T_73d47746_3d57_11ef_9215_70a8d3797e3elevel0_row0\" class=\"row_heading level0 row0\" >age</th>\n",
       "                        <td id=\"T_73d47746_3d57_11ef_9215_70a8d3797e3erow0_col0\" class=\"data row0 col0\" >1.000000</td>\n",
       "                        <td id=\"T_73d47746_3d57_11ef_9215_70a8d3797e3erow0_col1\" class=\"data row0 col1\" >0.615165</td>\n",
       "                        <td id=\"T_73d47746_3d57_11ef_9215_70a8d3797e3erow0_col2\" class=\"data row0 col2\" >0.532204</td>\n",
       "            </tr>\n",
       "            <tr>\n",
       "                        <th id=\"T_73d47746_3d57_11ef_9215_70a8d3797e3elevel0_row1\" class=\"row_heading level0 row1\" >experience</th>\n",
       "                        <td id=\"T_73d47746_3d57_11ef_9215_70a8d3797e3erow1_col0\" class=\"data row1 col0\" >0.615165</td>\n",
       "                        <td id=\"T_73d47746_3d57_11ef_9215_70a8d3797e3erow1_col1\" class=\"data row1 col1\" >1.000000</td>\n",
       "                        <td id=\"T_73d47746_3d57_11ef_9215_70a8d3797e3erow1_col2\" class=\"data row1 col2\" >0.984227</td>\n",
       "            </tr>\n",
       "            <tr>\n",
       "                        <th id=\"T_73d47746_3d57_11ef_9215_70a8d3797e3elevel0_row2\" class=\"row_heading level0 row2\" >income</th>\n",
       "                        <td id=\"T_73d47746_3d57_11ef_9215_70a8d3797e3erow2_col0\" class=\"data row2 col0\" >0.532204</td>\n",
       "                        <td id=\"T_73d47746_3d57_11ef_9215_70a8d3797e3erow2_col1\" class=\"data row2 col1\" >0.984227</td>\n",
       "                        <td id=\"T_73d47746_3d57_11ef_9215_70a8d3797e3erow2_col2\" class=\"data row2 col2\" >1.000000</td>\n",
       "            </tr>\n",
       "    </tbody></table>"
      ],
      "text/plain": [
       "<pandas.io.formats.style.Styler at 0x14382816cf8>"
      ]
     },
     "execution_count": 18,
     "metadata": {},
     "output_type": "execute_result"
    }
   ],
   "source": [
    "df_path = \"/Users/Danil/My_ML_algo/multiple_linear_regression_dataset.csv\"\n",
    "income = pd.read_csv(df_path)\n",
    "X1, y1 = income.iloc[:, :-1].values, income.iloc[:, -1].values\n",
    "X1_scaled = scale(X1)\n",
    "X1_train, X1_test, y1_train, y1_test = train_test_split(X1, y1, random_state=0)\n",
    "X1_train_s, X1_test_s, y1_train, y1_test = train_test_split(X1_scaled, y1, random_state=0)\n",
    "print(income)\n",
    "\n",
    "correlation_matrix = income.corr()\n",
    "correlation_matrix.style.background_gradient(cmap='coolwarm')"
   ]
  },
  {
   "cell_type": "code",
   "execution_count": 22,
   "id": "80abcbf8",
   "metadata": {},
   "outputs": [
    {
     "name": "stdout",
     "output_type": "stream",
     "text": [
      "Matrix Linear regression  R2 score: 0.9307237996010834\n",
      "weights: (40922.38666080836, -1049.786604334341, 8718.764356366166)\n",
      "prediction: [46528.00800666 35018.47848628 49448.73803373 38604.36954966\n",
      " 30788.13913983]\n"
     ]
    }
   ],
   "source": [
    "matrix_linear_regression = MatrixLinearRegression()\n",
    "matrix_linear_regression.fit(X1_train_s, y1_train)\n",
    "matrix_lr_pred_res = matrix_linear_regression.predict(X1_test_s)\n",
    "matrix_lr_r2 = r2_score(y1_test, matrix_lr_pred_res)\n",
    "\n",
    "print(f'Matrix Linear regression  R2 score: {matrix_lr_r2}')\n",
    "\n",
    "print(f'weights: {matrix_linear_regression.bias, *matrix_linear_regression.weights}')\n",
    "print(f'prediction: {matrix_lr_pred_res}')"
   ]
  },
  {
   "cell_type": "code",
   "execution_count": null,
   "id": "12f42fca",
   "metadata": {},
   "outputs": [],
   "source": []
  }
 ],
 "metadata": {
  "kernelspec": {
   "display_name": "Python 3 (ipykernel)",
   "language": "python",
   "name": "python3"
  },
  "language_info": {
   "codemirror_mode": {
    "name": "ipython",
    "version": 3
   },
   "file_extension": ".py",
   "mimetype": "text/x-python",
   "name": "python",
   "nbconvert_exporter": "python",
   "pygments_lexer": "ipython3",
   "version": "3.7.0"
  }
 },
 "nbformat": 4,
 "nbformat_minor": 5
}
